{
 "cells": [
  {
   "cell_type": "markdown",
   "metadata": {},
   "source": [
    "# DATA SORTING\n",
    "---\n"
   ]
  },
  {
   "cell_type": "markdown",
   "metadata": {},
   "source": [
    "In order to sort a DataFrame, you can use the function sort_values(). Data can be sorted in Ascending or Descending order.\n",
    "\n",
    "<https://pandas.pydata.org/pandas-docs/stable/reference/api/pandas.DataFrame.sort_values.html>"
   ]
  },
  {
   "cell_type": "markdown",
   "metadata": {},
   "source": [
    "The data in the cars.csv file contains basic information about several luxury cars."
   ]
  },
  {
   "cell_type": "code",
   "execution_count": 1,
   "metadata": {},
   "outputs": [
    {
     "data": {
      "text/html": [
       "<div>\n",
       "<style scoped>\n",
       "    .dataframe tbody tr th:only-of-type {\n",
       "        vertical-align: middle;\n",
       "    }\n",
       "\n",
       "    .dataframe tbody tr th {\n",
       "        vertical-align: top;\n",
       "    }\n",
       "\n",
       "    .dataframe thead th {\n",
       "        text-align: right;\n",
       "    }\n",
       "</style>\n",
       "<table border=\"1\" class=\"dataframe\">\n",
       "  <thead>\n",
       "    <tr style=\"text-align: right;\">\n",
       "      <th></th>\n",
       "      <th>Name</th>\n",
       "      <th>PriceUSD</th>\n",
       "      <th>MotorCapacityL</th>\n",
       "    </tr>\n",
       "  </thead>\n",
       "  <tbody>\n",
       "    <tr>\n",
       "      <th>0</th>\n",
       "      <td>Rolls-Royce Phantom</td>\n",
       "      <td>535500</td>\n",
       "      <td>6.75</td>\n",
       "    </tr>\n",
       "    <tr>\n",
       "      <th>1</th>\n",
       "      <td>Bentley Continental GT</td>\n",
       "      <td>185000</td>\n",
       "      <td>4.0</td>\n",
       "    </tr>\n",
       "    <tr>\n",
       "      <th>2</th>\n",
       "      <td>Mercedes-Maybach S-Class</td>\n",
       "      <td>173100</td>\n",
       "      <td>4.0</td>\n",
       "    </tr>\n",
       "    <tr>\n",
       "      <th>3</th>\n",
       "      <td>Ferrari 812 Superfast</td>\n",
       "      <td>335250</td>\n",
       "      <td>6.5</td>\n",
       "    </tr>\n",
       "    <tr>\n",
       "      <th>4</th>\n",
       "      <td>Lamborghini Aventador</td>\n",
       "      <td>417800</td>\n",
       "      <td>6.5</td>\n",
       "    </tr>\n",
       "    <tr>\n",
       "      <th>5</th>\n",
       "      <td>Aston Martin DB11</td>\n",
       "      <td>208100</td>\n",
       "      <td>4.0</td>\n",
       "    </tr>\n",
       "    <tr>\n",
       "      <th>6</th>\n",
       "      <td>Porsche Panamera</td>\n",
       "      <td>86300</td>\n",
       "      <td>3.0</td>\n",
       "    </tr>\n",
       "    <tr>\n",
       "      <th>7</th>\n",
       "      <td>Maserati Quattroporte</td>\n",
       "      <td>106000</td>\n",
       "      <td>3.0</td>\n",
       "    </tr>\n",
       "    <tr>\n",
       "      <th>8</th>\n",
       "      <td>Lexus LS</td>\n",
       "      <td>80500</td>\n",
       "      <td>3.5</td>\n",
       "    </tr>\n",
       "    <tr>\n",
       "      <th>9</th>\n",
       "      <td>Tesla Model S</td>\n",
       "      <td>82990</td>\n",
       "      <td>Dual Electric Motors</td>\n",
       "    </tr>\n",
       "  </tbody>\n",
       "</table>\n",
       "</div>"
      ],
      "text/plain": [
       "                       Name  PriceUSD        MotorCapacityL\n",
       "0       Rolls-Royce Phantom    535500                  6.75\n",
       "1    Bentley Continental GT    185000                   4.0\n",
       "2  Mercedes-Maybach S-Class    173100                   4.0\n",
       "3     Ferrari 812 Superfast    335250                   6.5\n",
       "4     Lamborghini Aventador    417800                   6.5\n",
       "5         Aston Martin DB11    208100                   4.0\n",
       "6          Porsche Panamera     86300                   3.0\n",
       "7     Maserati Quattroporte    106000                   3.0\n",
       "8                  Lexus LS     80500                   3.5\n",
       "9             Tesla Model S     82990  Dual Electric Motors"
      ]
     },
     "execution_count": 1,
     "metadata": {},
     "output_type": "execute_result"
    }
   ],
   "source": [
    "import pandas as pd\n",
    "cars = pd.read_csv('cars.csv')\n",
    "cars"
   ]
  },
  {
   "cell_type": "markdown",
   "metadata": {},
   "source": [
    "To sort the list of cars alphabetically, use the sort function and enter the name of the column by which the data should be sorted."
   ]
  },
  {
   "cell_type": "code",
   "execution_count": 8,
   "metadata": {},
   "outputs": [
    {
     "data": {
      "text/html": [
       "<div>\n",
       "<style scoped>\n",
       "    .dataframe tbody tr th:only-of-type {\n",
       "        vertical-align: middle;\n",
       "    }\n",
       "\n",
       "    .dataframe tbody tr th {\n",
       "        vertical-align: top;\n",
       "    }\n",
       "\n",
       "    .dataframe thead th {\n",
       "        text-align: right;\n",
       "    }\n",
       "</style>\n",
       "<table border=\"1\" class=\"dataframe\">\n",
       "  <thead>\n",
       "    <tr style=\"text-align: right;\">\n",
       "      <th></th>\n",
       "      <th>Name</th>\n",
       "      <th>PriceUSD</th>\n",
       "      <th>MotorCapacityL</th>\n",
       "    </tr>\n",
       "  </thead>\n",
       "  <tbody>\n",
       "    <tr>\n",
       "      <th>5</th>\n",
       "      <td>Aston Martin DB11</td>\n",
       "      <td>208100</td>\n",
       "      <td>4.0</td>\n",
       "    </tr>\n",
       "    <tr>\n",
       "      <th>1</th>\n",
       "      <td>Bentley Continental GT</td>\n",
       "      <td>185000</td>\n",
       "      <td>4.0</td>\n",
       "    </tr>\n",
       "    <tr>\n",
       "      <th>3</th>\n",
       "      <td>Ferrari 812 Superfast</td>\n",
       "      <td>335250</td>\n",
       "      <td>6.5</td>\n",
       "    </tr>\n",
       "    <tr>\n",
       "      <th>4</th>\n",
       "      <td>Lamborghini Aventador</td>\n",
       "      <td>417800</td>\n",
       "      <td>6.5</td>\n",
       "    </tr>\n",
       "    <tr>\n",
       "      <th>8</th>\n",
       "      <td>Lexus LS</td>\n",
       "      <td>80500</td>\n",
       "      <td>3.5</td>\n",
       "    </tr>\n",
       "    <tr>\n",
       "      <th>7</th>\n",
       "      <td>Maserati Quattroporte</td>\n",
       "      <td>106000</td>\n",
       "      <td>3.0</td>\n",
       "    </tr>\n",
       "    <tr>\n",
       "      <th>2</th>\n",
       "      <td>Mercedes-Maybach S-Class</td>\n",
       "      <td>173100</td>\n",
       "      <td>4.0</td>\n",
       "    </tr>\n",
       "    <tr>\n",
       "      <th>6</th>\n",
       "      <td>Porsche Panamera</td>\n",
       "      <td>86300</td>\n",
       "      <td>3.0</td>\n",
       "    </tr>\n",
       "    <tr>\n",
       "      <th>0</th>\n",
       "      <td>Rolls-Royce Phantom</td>\n",
       "      <td>535500</td>\n",
       "      <td>6.75</td>\n",
       "    </tr>\n",
       "    <tr>\n",
       "      <th>9</th>\n",
       "      <td>Tesla Model S</td>\n",
       "      <td>82990</td>\n",
       "      <td>Dual Electric Motors</td>\n",
       "    </tr>\n",
       "  </tbody>\n",
       "</table>\n",
       "</div>"
      ],
      "text/plain": [
       "                       Name  PriceUSD        MotorCapacityL\n",
       "5         Aston Martin DB11    208100                   4.0\n",
       "1    Bentley Continental GT    185000                   4.0\n",
       "3     Ferrari 812 Superfast    335250                   6.5\n",
       "4     Lamborghini Aventador    417800                   6.5\n",
       "8                  Lexus LS     80500                   3.5\n",
       "7     Maserati Quattroporte    106000                   3.0\n",
       "2  Mercedes-Maybach S-Class    173100                   4.0\n",
       "6          Porsche Panamera     86300                   3.0\n",
       "0       Rolls-Royce Phantom    535500                  6.75\n",
       "9             Tesla Model S     82990  Dual Electric Motors"
      ]
     },
     "execution_count": 8,
     "metadata": {},
     "output_type": "execute_result"
    }
   ],
   "source": [
    "cars.sort_values(by='Name')"
   ]
  },
  {
   "cell_type": "markdown",
   "metadata": {},
   "source": [
    "You can also arrange the data in reverse order, e.g. starting with the most expensive car."
   ]
  },
  {
   "cell_type": "code",
   "execution_count": 10,
   "metadata": {},
   "outputs": [
    {
     "data": {
      "text/html": [
       "<div>\n",
       "<style scoped>\n",
       "    .dataframe tbody tr th:only-of-type {\n",
       "        vertical-align: middle;\n",
       "    }\n",
       "\n",
       "    .dataframe tbody tr th {\n",
       "        vertical-align: top;\n",
       "    }\n",
       "\n",
       "    .dataframe thead th {\n",
       "        text-align: right;\n",
       "    }\n",
       "</style>\n",
       "<table border=\"1\" class=\"dataframe\">\n",
       "  <thead>\n",
       "    <tr style=\"text-align: right;\">\n",
       "      <th></th>\n",
       "      <th>Name</th>\n",
       "      <th>PriceUSD</th>\n",
       "      <th>MotorCapacityL</th>\n",
       "    </tr>\n",
       "  </thead>\n",
       "  <tbody>\n",
       "    <tr>\n",
       "      <th>0</th>\n",
       "      <td>Rolls-Royce Phantom</td>\n",
       "      <td>535500</td>\n",
       "      <td>6.75</td>\n",
       "    </tr>\n",
       "    <tr>\n",
       "      <th>4</th>\n",
       "      <td>Lamborghini Aventador</td>\n",
       "      <td>417800</td>\n",
       "      <td>6.5</td>\n",
       "    </tr>\n",
       "    <tr>\n",
       "      <th>3</th>\n",
       "      <td>Ferrari 812 Superfast</td>\n",
       "      <td>335250</td>\n",
       "      <td>6.5</td>\n",
       "    </tr>\n",
       "    <tr>\n",
       "      <th>5</th>\n",
       "      <td>Aston Martin DB11</td>\n",
       "      <td>208100</td>\n",
       "      <td>4.0</td>\n",
       "    </tr>\n",
       "    <tr>\n",
       "      <th>1</th>\n",
       "      <td>Bentley Continental GT</td>\n",
       "      <td>185000</td>\n",
       "      <td>4.0</td>\n",
       "    </tr>\n",
       "    <tr>\n",
       "      <th>2</th>\n",
       "      <td>Mercedes-Maybach S-Class</td>\n",
       "      <td>173100</td>\n",
       "      <td>4.0</td>\n",
       "    </tr>\n",
       "    <tr>\n",
       "      <th>7</th>\n",
       "      <td>Maserati Quattroporte</td>\n",
       "      <td>106000</td>\n",
       "      <td>3.0</td>\n",
       "    </tr>\n",
       "    <tr>\n",
       "      <th>6</th>\n",
       "      <td>Porsche Panamera</td>\n",
       "      <td>86300</td>\n",
       "      <td>3.0</td>\n",
       "    </tr>\n",
       "    <tr>\n",
       "      <th>9</th>\n",
       "      <td>Tesla Model S</td>\n",
       "      <td>82990</td>\n",
       "      <td>Dual Electric Motors</td>\n",
       "    </tr>\n",
       "    <tr>\n",
       "      <th>8</th>\n",
       "      <td>Lexus LS</td>\n",
       "      <td>80500</td>\n",
       "      <td>3.5</td>\n",
       "    </tr>\n",
       "  </tbody>\n",
       "</table>\n",
       "</div>"
      ],
      "text/plain": [
       "                       Name  PriceUSD        MotorCapacityL\n",
       "0       Rolls-Royce Phantom    535500                  6.75\n",
       "4     Lamborghini Aventador    417800                   6.5\n",
       "3     Ferrari 812 Superfast    335250                   6.5\n",
       "5         Aston Martin DB11    208100                   4.0\n",
       "1    Bentley Continental GT    185000                   4.0\n",
       "2  Mercedes-Maybach S-Class    173100                   4.0\n",
       "7     Maserati Quattroporte    106000                   3.0\n",
       "6          Porsche Panamera     86300                   3.0\n",
       "9             Tesla Model S     82990  Dual Electric Motors\n",
       "8                  Lexus LS     80500                   3.5"
      ]
     },
     "execution_count": 10,
     "metadata": {},
     "output_type": "execute_result"
    }
   ],
   "source": [
    "cars.sort_values(by='PriceUSD', ascending=False)"
   ]
  },
  {
   "cell_type": "markdown",
   "metadata": {},
   "source": [
    "### Tasks"
   ]
  },
  {
   "cell_type": "markdown",
   "metadata": {},
   "source": [
    "The data below contains the exam results and whether the exam was passed.\n",
    "\n",
    "Name     | Total | Result\n",
    "---------|-------|---------\n",
    "Olivier  | 90    | passed\n",
    "Naomi    | 42    | failed\n",
    "Olivia   | 71    | passed\n",
    "Nolan    | 100   | passed\n",
    "Dylan    | 39    | failed"
   ]
  },
  {
   "cell_type": "markdown",
   "metadata": {},
   "source": [
    "Follow the instructions below. After completing each point, display the contents of the DataFrame.\n",
    "\n",
    "1. Based on the data in the table, create the content of the DataFrame.\n",
    "1. Sort the list of people alphabetically.\n",
    "1. Sort the list of people according to their points, starting with the highest value.\n",
    "1. Sort the list of people by their score, starting with the people who passed the exam.\n",
    "1. Sort the list of people by their score, starting with those who passed the exam and then by those names alphabetically. Hint. Use the link above to see how to sort data by more than one column."
   ]
  },
  {
   "cell_type": "markdown",
   "metadata": {},
   "source": [
    "Add the 'University' column to your exam DataFrame. Assign the first two people the name 'UEK' and the remaining three people the name 'AGH'. Display updated DataFrame."
   ]
  },
  {
   "cell_type": "markdown",
   "metadata": {},
   "source": [
    "With the modified DataFrame:\n",
    "\n",
    "1. Sort the list by the univeristy, and then by the name. Display the sorted data.\n",
    "1. Display the people names alphabetically (only one column of data).\n",
    "1. Display two columns: Total and Name, in the given order. Sort the data by the number of points obtained, descending.\n",
    "\n",
    "\n",
    "\n"
   ]
  }
 ],
 "metadata": {
  "kernelspec": {
   "display_name": "Python 3",
   "language": "python",
   "name": "python3"
  },
  "language_info": {
   "codemirror_mode": {
    "name": "ipython",
    "version": 3
   },
   "file_extension": ".py",
   "mimetype": "text/x-python",
   "name": "python",
   "nbconvert_exporter": "python",
   "pygments_lexer": "ipython3",
   "version": "3.11.1"
  }
 },
 "nbformat": 4,
 "nbformat_minor": 2
}
