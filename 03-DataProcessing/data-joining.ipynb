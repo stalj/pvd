{
 "cells": [
  {
   "cell_type": "markdown",
   "metadata": {},
   "source": [
    "# DATA JOINING\n",
    "---"
   ]
  },
  {
   "cell_type": "markdown",
   "metadata": {},
   "source": [
    "The table below contains a list of products ordered in the online store.\n",
    "\n",
    "OrderNo | Date | Product | Quantity\n",
    "--------|------|---------|:-------:\n",
    "295 | 2024-02-09 | chair | 6\n",
    "295 | 2024-02-12 | lamp  | 6\n",
    "312 | 2024-02-17 | desk | 2\n",
    "312 | 2024-02-17 | lamp | 1\n",
    "314 | 2024-02-18 | desk | 4"
   ]
  },
  {
   "cell_type": "markdown",
   "metadata": {},
   "source": [
    "The table below contains the price list of products in this store. As you can see, both tables contain product names. You can therefore combine them into one common data collection.\n",
    "\n",
    "Product | Price\n",
    "--------|------:\n",
    "desk | 450.00\n",
    "chair | 275.00\n",
    "lamp | 79.00\n",
    "\n"
   ]
  },
  {
   "cell_type": "markdown",
   "metadata": {},
   "source": [
    "First, you need to create data collections corresponding to the contents of the tables."
   ]
  },
  {
   "cell_type": "code",
   "execution_count": 28,
   "metadata": {},
   "outputs": [],
   "source": [
    "orders_data = {\n",
    "    'OrderNo':['295','295','312','312','314'],\n",
    "    'Date':['2024-02-09','2024-02-09','2024-02-17','2024-02-17','2024-02-18'],\n",
    "    'Product':['chair','lamp','desk','lamp','desk'],\n",
    "    'Quantity':[6,6,2,1,4]}\n",
    "price_list = {'Product':['desk','chair','lamp'], 'Price':[450.00, 275.00, 79.00]}"
   ]
  },
  {
   "cell_type": "markdown",
   "metadata": {},
   "source": [
    "Now, based on the data collections, you create DataFrames."
   ]
  },
  {
   "cell_type": "code",
   "execution_count": 31,
   "metadata": {},
   "outputs": [],
   "source": [
    "import pandas as pd\n",
    "orders = pd.DataFrame(orders_data)\n",
    "prices = pd.DataFrame(price_list)"
   ]
  },
  {
   "cell_type": "markdown",
   "metadata": {},
   "source": [
    "Finally, you join both DataFrames and display their common content. Note the use of the 'merge' function. You must provide the names of both DataFrames and the name of the column that contains the common data."
   ]
  },
  {
   "cell_type": "code",
   "execution_count": 32,
   "metadata": {},
   "outputs": [
    {
     "data": {
      "text/html": [
       "<div>\n",
       "<style scoped>\n",
       "    .dataframe tbody tr th:only-of-type {\n",
       "        vertical-align: middle;\n",
       "    }\n",
       "\n",
       "    .dataframe tbody tr th {\n",
       "        vertical-align: top;\n",
       "    }\n",
       "\n",
       "    .dataframe thead th {\n",
       "        text-align: right;\n",
       "    }\n",
       "</style>\n",
       "<table border=\"1\" class=\"dataframe\">\n",
       "  <thead>\n",
       "    <tr style=\"text-align: right;\">\n",
       "      <th></th>\n",
       "      <th>OrderNo</th>\n",
       "      <th>Date</th>\n",
       "      <th>Product</th>\n",
       "      <th>Quantity</th>\n",
       "      <th>Price</th>\n",
       "    </tr>\n",
       "  </thead>\n",
       "  <tbody>\n",
       "    <tr>\n",
       "      <th>0</th>\n",
       "      <td>295</td>\n",
       "      <td>2024-02-09</td>\n",
       "      <td>chair</td>\n",
       "      <td>6</td>\n",
       "      <td>275.0</td>\n",
       "    </tr>\n",
       "    <tr>\n",
       "      <th>1</th>\n",
       "      <td>295</td>\n",
       "      <td>2024-02-09</td>\n",
       "      <td>lamp</td>\n",
       "      <td>6</td>\n",
       "      <td>79.0</td>\n",
       "    </tr>\n",
       "    <tr>\n",
       "      <th>2</th>\n",
       "      <td>312</td>\n",
       "      <td>2024-02-17</td>\n",
       "      <td>lamp</td>\n",
       "      <td>1</td>\n",
       "      <td>79.0</td>\n",
       "    </tr>\n",
       "    <tr>\n",
       "      <th>3</th>\n",
       "      <td>312</td>\n",
       "      <td>2024-02-17</td>\n",
       "      <td>desk</td>\n",
       "      <td>2</td>\n",
       "      <td>450.0</td>\n",
       "    </tr>\n",
       "    <tr>\n",
       "      <th>4</th>\n",
       "      <td>314</td>\n",
       "      <td>2024-02-18</td>\n",
       "      <td>desk</td>\n",
       "      <td>4</td>\n",
       "      <td>450.0</td>\n",
       "    </tr>\n",
       "  </tbody>\n",
       "</table>\n",
       "</div>"
      ],
      "text/plain": [
       "  OrderNo        Date Product  Quantity  Price\n",
       "0     295  2024-02-09   chair         6  275.0\n",
       "1     295  2024-02-09    lamp         6   79.0\n",
       "2     312  2024-02-17    lamp         1   79.0\n",
       "3     312  2024-02-17    desk         2  450.0\n",
       "4     314  2024-02-18    desk         4  450.0"
      ]
     },
     "execution_count": 32,
     "metadata": {},
     "output_type": "execute_result"
    }
   ],
   "source": [
    "orders_with_prices = pd.merge(orders,prices,on='Product')\n",
    "orders_with_prices"
   ]
  },
  {
   "cell_type": "markdown",
   "metadata": {},
   "source": [
    "You can also complete the final DataFrame by adding a new column containing the amount to be paid for the ordered products."
   ]
  },
  {
   "cell_type": "code",
   "execution_count": 33,
   "metadata": {},
   "outputs": [
    {
     "data": {
      "text/html": [
       "<div>\n",
       "<style scoped>\n",
       "    .dataframe tbody tr th:only-of-type {\n",
       "        vertical-align: middle;\n",
       "    }\n",
       "\n",
       "    .dataframe tbody tr th {\n",
       "        vertical-align: top;\n",
       "    }\n",
       "\n",
       "    .dataframe thead th {\n",
       "        text-align: right;\n",
       "    }\n",
       "</style>\n",
       "<table border=\"1\" class=\"dataframe\">\n",
       "  <thead>\n",
       "    <tr style=\"text-align: right;\">\n",
       "      <th></th>\n",
       "      <th>OrderNo</th>\n",
       "      <th>Date</th>\n",
       "      <th>Product</th>\n",
       "      <th>Quantity</th>\n",
       "      <th>Price</th>\n",
       "      <th>Total</th>\n",
       "    </tr>\n",
       "  </thead>\n",
       "  <tbody>\n",
       "    <tr>\n",
       "      <th>0</th>\n",
       "      <td>295</td>\n",
       "      <td>2024-02-09</td>\n",
       "      <td>chair</td>\n",
       "      <td>6</td>\n",
       "      <td>275.0</td>\n",
       "      <td>1650.0</td>\n",
       "    </tr>\n",
       "    <tr>\n",
       "      <th>1</th>\n",
       "      <td>295</td>\n",
       "      <td>2024-02-09</td>\n",
       "      <td>lamp</td>\n",
       "      <td>6</td>\n",
       "      <td>79.0</td>\n",
       "      <td>474.0</td>\n",
       "    </tr>\n",
       "    <tr>\n",
       "      <th>2</th>\n",
       "      <td>312</td>\n",
       "      <td>2024-02-17</td>\n",
       "      <td>lamp</td>\n",
       "      <td>1</td>\n",
       "      <td>79.0</td>\n",
       "      <td>79.0</td>\n",
       "    </tr>\n",
       "    <tr>\n",
       "      <th>3</th>\n",
       "      <td>312</td>\n",
       "      <td>2024-02-17</td>\n",
       "      <td>desk</td>\n",
       "      <td>2</td>\n",
       "      <td>450.0</td>\n",
       "      <td>900.0</td>\n",
       "    </tr>\n",
       "    <tr>\n",
       "      <th>4</th>\n",
       "      <td>314</td>\n",
       "      <td>2024-02-18</td>\n",
       "      <td>desk</td>\n",
       "      <td>4</td>\n",
       "      <td>450.0</td>\n",
       "      <td>1800.0</td>\n",
       "    </tr>\n",
       "  </tbody>\n",
       "</table>\n",
       "</div>"
      ],
      "text/plain": [
       "  OrderNo        Date Product  Quantity  Price   Total\n",
       "0     295  2024-02-09   chair         6  275.0  1650.0\n",
       "1     295  2024-02-09    lamp         6   79.0   474.0\n",
       "2     312  2024-02-17    lamp         1   79.0    79.0\n",
       "3     312  2024-02-17    desk         2  450.0   900.0\n",
       "4     314  2024-02-18    desk         4  450.0  1800.0"
      ]
     },
     "execution_count": 33,
     "metadata": {},
     "output_type": "execute_result"
    }
   ],
   "source": [
    "orders_with_prices['Total'] = orders_with_prices['Quantity'] * orders_with_prices['Price']\n",
    "orders_with_prices"
   ]
  },
  {
   "cell_type": "markdown",
   "metadata": {},
   "source": [
    "### Tasks"
   ]
  },
  {
   "cell_type": "markdown",
   "metadata": {},
   "source": [
    "It turns out that the store offers a discount on selected products. Currently, the discount on desks is 20%, while the discount on lamps is 30%. Create another DataFrame containing a list of discounted products. Then, join the discounted data with the previous data collections. Calculate and display the amounts to pay, after taking into account the discount."
   ]
  },
  {
   "cell_type": "markdown",
   "metadata": {},
   "source": []
  }
 ],
 "metadata": {
  "kernelspec": {
   "display_name": "Python 3",
   "language": "python",
   "name": "python3"
  },
  "language_info": {
   "codemirror_mode": {
    "name": "ipython",
    "version": 3
   },
   "file_extension": ".py",
   "mimetype": "text/x-python",
   "name": "python",
   "nbconvert_exporter": "python",
   "pygments_lexer": "ipython3",
   "version": "3.11.1"
  }
 },
 "nbformat": 4,
 "nbformat_minor": 2
}
