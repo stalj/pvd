{
 "cells": [
  {
   "cell_type": "markdown",
   "metadata": {},
   "source": [
    "# Mój pierwszy notes"
   ]
  },
  {
   "cell_type": "markdown",
   "metadata": {},
   "source": [
    "Opis treści zadania. Opis treści zadania. Opis treści zadania. Opis treści zadania. Opis treści zadania. Opis treści zadania. Opis treści zadania. Opis treści zadania. Opis treści zadania. Opis treści zadania. Opis treści zadania. Opis treści zadania. Opis treści zadania. Opis treści zadania. Opis treści zadania. Opis treści zadania. Opis treści zadania. Opis treści zadania. Opis treści zadania. Opis treści zadania. Opis treści zadania. Opis treści zadania. Opis treści zadania. Opis treści zadania. Opis treści zadania. Opis treści zadania. Opis treści zadania. "
   ]
  },
  {
   "cell_type": "code",
   "execution_count": 18,
   "metadata": {},
   "outputs": [
    {
     "data": {
      "text/html": [
       "<div>\n",
       "<style scoped>\n",
       "    .dataframe tbody tr th:only-of-type {\n",
       "        vertical-align: middle;\n",
       "    }\n",
       "\n",
       "    .dataframe tbody tr th {\n",
       "        vertical-align: top;\n",
       "    }\n",
       "\n",
       "    .dataframe thead th {\n",
       "        text-align: right;\n",
       "    }\n",
       "</style>\n",
       "<table border=\"1\" class=\"dataframe\">\n",
       "  <thead>\n",
       "    <tr style=\"text-align: right;\">\n",
       "      <th></th>\n",
       "      <th>Day</th>\n",
       "      <th>Value</th>\n",
       "      <th>Value %</th>\n",
       "    </tr>\n",
       "  </thead>\n",
       "  <tbody>\n",
       "    <tr>\n",
       "      <th>1</th>\n",
       "      <td>Monday</td>\n",
       "      <td>111</td>\n",
       "      <td>1.11</td>\n",
       "    </tr>\n",
       "    <tr>\n",
       "      <th>2</th>\n",
       "      <td>Tuesday</td>\n",
       "      <td>222</td>\n",
       "      <td>2.22</td>\n",
       "    </tr>\n",
       "    <tr>\n",
       "      <th>3</th>\n",
       "      <td>Wednesday</td>\n",
       "      <td>333</td>\n",
       "      <td>3.33</td>\n",
       "    </tr>\n",
       "  </tbody>\n",
       "</table>\n",
       "</div>"
      ],
      "text/plain": [
       "         Day  Value  Value %\n",
       "1     Monday    111     1.11\n",
       "2    Tuesday    222     2.22\n",
       "3  Wednesday    333     3.33"
      ]
     },
     "execution_count": 18,
     "metadata": {},
     "output_type": "execute_result"
    }
   ],
   "source": [
    "import pandas as pd\n",
    "s1 = pd.Series([\"Monday\",\"Tuesday\",\"Wednesday\"])\n",
    "s2 = pd.Series([111,222,333])\n",
    "ds = pd.DataFrame()\n",
    "# print(s1)\n",
    "# print(s2)\n",
    "# print(ds)\n",
    "ds['Day'] = s1\n",
    "ds['Value'] = s2\n",
    "ds.index += 1\n",
    "ds['Value %'] = ds['Value']/100 \n",
    "ds\n"
   ]
  },
  {
   "cell_type": "markdown",
   "metadata": {},
   "source": [
    "Opis treści zadania. Opis treści zadania. Opis treści zadania. Opis treści zadania. Opis treści zadania. Opis treści zadania. Opis treści zadania. Opis treści zadania. Opis treści zadania. Opis treści zadania. Opis treści zadania. Opis treści zadania. Opis treści zadania. Opis treści zadania. Opis treści zadania. Opis treści zadania. Opis treści zadania. Opis treści zadania. Opis treści zadania. Opis treści zadania. Opis treści zadania. Opis treści zadania. Opis treści zadania. Opis treści zadania. Opis treści zadania. Opis treści zadania. Opis treści zadania. "
   ]
  },
  {
   "cell_type": "code",
   "execution_count": 16,
   "metadata": {},
   "outputs": [
    {
     "data": {
      "text/html": [
       "<div>\n",
       "<style scoped>\n",
       "    .dataframe tbody tr th:only-of-type {\n",
       "        vertical-align: middle;\n",
       "    }\n",
       "\n",
       "    .dataframe tbody tr th {\n",
       "        vertical-align: top;\n",
       "    }\n",
       "\n",
       "    .dataframe thead th {\n",
       "        text-align: right;\n",
       "    }\n",
       "</style>\n",
       "<table border=\"1\" class=\"dataframe\">\n",
       "  <thead>\n",
       "    <tr style=\"text-align: right;\">\n",
       "      <th></th>\n",
       "      <th>Day</th>\n",
       "      <th>Value</th>\n",
       "      <th>Value %</th>\n",
       "    </tr>\n",
       "  </thead>\n",
       "  <tbody>\n",
       "    <tr>\n",
       "      <th>1</th>\n",
       "      <td>Monday</td>\n",
       "      <td>111</td>\n",
       "      <td>1.11</td>\n",
       "    </tr>\n",
       "    <tr>\n",
       "      <th>2</th>\n",
       "      <td>Tuesday</td>\n",
       "      <td>222</td>\n",
       "      <td>2.22</td>\n",
       "    </tr>\n",
       "    <tr>\n",
       "      <th>3</th>\n",
       "      <td>Wednesday</td>\n",
       "      <td>333</td>\n",
       "      <td>3.33</td>\n",
       "    </tr>\n",
       "  </tbody>\n",
       "</table>\n",
       "</div>"
      ],
      "text/plain": [
       "         Day  Value  Value %\n",
       "1     Monday    111     1.11\n",
       "2    Tuesday    222     2.22\n",
       "3  Wednesday    333     3.33"
      ]
     },
     "execution_count": 16,
     "metadata": {},
     "output_type": "execute_result"
    }
   ],
   "source": [
    "ds.iloc[:,:]"
   ]
  }
 ],
 "metadata": {
  "kernelspec": {
   "display_name": "Python 3",
   "language": "python",
   "name": "python3"
  },
  "language_info": {
   "codemirror_mode": {
    "name": "ipython",
    "version": 3
   },
   "file_extension": ".py",
   "mimetype": "text/x-python",
   "name": "python",
   "nbconvert_exporter": "python",
   "pygments_lexer": "ipython3",
   "version": "3.11.1"
  }
 },
 "nbformat": 4,
 "nbformat_minor": 2
}
